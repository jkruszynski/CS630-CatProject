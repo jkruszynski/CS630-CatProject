{
 "cells": [
  {
   "cell_type": "code",
   "execution_count": 21,
   "id": "damaged-pattern",
   "metadata": {},
   "outputs": [
    {
     "name": "stdout",
     "output_type": "stream",
     "text": [
      "[{'Breed Name': 'cat1', 'Country of Origin': 'USA', 'Playfulness': 'high', 'Activity Level': 'high', 'Friendliness': 'good with cats', 'Grooming Requirements': 'high', 'Vocality': 'high', 'General Traits': 'large', 'Breed Disorders': 'diabetes', 'Care Instructions': 'needy', 'Nutrition': 'nothing special', 'Behavior': \"I'm not sure\", 'Training': 'impossible', 'Grooming': 'self care'}, {'Breed Name': 'cat2', 'Country of Origin': 'Mexico', 'Playfulness': 'low', 'Activity Level': 'moderate', 'Friendliness': 'bad with children', 'Grooming Requirements': 'low', 'Vocality': 'high', 'General Traits': 'hypoallergenic', 'Breed Disorders': 'healthy', 'Care Instructions': 'self cared', 'Nutrition': 'dry food', 'Behavior': 'silly', 'Training': 'next to impossible', 'Grooming': 'pet'}]\n"
     ]
    },
    {
     "ename": "KeyError",
     "evalue": "'color'",
     "output_type": "error",
     "traceback": [
      "\u001b[0;31m---------------------------------------------------------------------------\u001b[0m",
      "\u001b[0;31mKeyError\u001b[0m                                  Traceback (most recent call last)",
      "\u001b[0;32m<ipython-input-21-d7e670488dce>\u001b[0m in \u001b[0;36m<module>\u001b[0;34m\u001b[0m\n\u001b[1;32m     19\u001b[0m         \u001b[0;32mbreak\u001b[0m\u001b[0;34m\u001b[0m\u001b[0;34m\u001b[0m\u001b[0m\n\u001b[1;32m     20\u001b[0m \u001b[0;34m\u001b[0m\u001b[0m\n\u001b[0;32m---> 21\u001b[0;31m     \u001b[0;32mif\u001b[0m \u001b[0mbreed\u001b[0m\u001b[0;34m[\u001b[0m\u001b[0;34m'color'\u001b[0m\u001b[0;34m]\u001b[0m \u001b[0;32mnot\u001b[0m \u001b[0;32min\u001b[0m \u001b[0mparams\u001b[0m\u001b[0;34m[\u001b[0m\u001b[0;34m'colorSelection'\u001b[0m\u001b[0;34m]\u001b[0m\u001b[0;34m:\u001b[0m\u001b[0;34m\u001b[0m\u001b[0;34m\u001b[0m\u001b[0m\n\u001b[0m\u001b[1;32m     22\u001b[0m         \u001b[0;32mbreak\u001b[0m\u001b[0;34m\u001b[0m\u001b[0;34m\u001b[0m\u001b[0m\n\u001b[1;32m     23\u001b[0m \u001b[0;34m\u001b[0m\u001b[0m\n",
      "\u001b[0;31mKeyError\u001b[0m: 'color'"
     ]
    }
   ],
   "source": [
    "import pandas as pd\n",
    "\n",
    "df = pd.read_csv('catinfo.csv')\n",
    "df = df[:2]\n",
    "breeds = df.to_dict(orient='records')\n",
    "print(breeds)\n",
    "\n",
    "params = {\n",
    "    'activityLevel': \"Moderate\",\n",
    "    'colorSelection': [\"Grey\", \"Tuxedo\"],\n",
    "    'countries': [\"USA\", \"Mexico\"],\n",
    "    'grooming': \"N/A\",\n",
    "    'playfulness': \"Low\",\n",
    "    'vocality': \"High\"\n",
    "}\n",
    "\n",
    "for breed in breeds:\n",
    "    if breed['Country of Origin'] not in params['countries']:\n",
    "        break\n",
    "    \n",
    "    if breed['Color'] not in params['colorSelection']:\n",
    "        break\n",
    "        \n",
    "    if params['activityLevel'] != 'N/A' and breed['Activity Level'].lower() == params['activityLevel'].lower():\n",
    "        break\n",
    "        \n",
    "    if params['playfulness'] != 'N/A' and breed['Playfulness'].lower() == params['playfulness'].lower():\n",
    "        break\n",
    "        \n",
    "    if params['grooming'] != 'N/A' and breed['Grooming Requirements'].lower() == params['grooming'].lower():\n",
    "        break\n",
    "\n",
    "    print(breed['Breed Name'])"
   ]
  },
  {
   "cell_type": "code",
   "execution_count": null,
   "id": "studied-marriage",
   "metadata": {},
   "outputs": [],
   "source": []
  }
 ],
 "metadata": {
  "kernelspec": {
   "display_name": "Python 3",
   "language": "python",
   "name": "python3"
  },
  "language_info": {
   "codemirror_mode": {
    "name": "ipython",
    "version": 3
   },
   "file_extension": ".py",
   "mimetype": "text/x-python",
   "name": "python",
   "nbconvert_exporter": "python",
   "pygments_lexer": "ipython3",
   "version": "3.6.8"
  }
 },
 "nbformat": 4,
 "nbformat_minor": 5
}
