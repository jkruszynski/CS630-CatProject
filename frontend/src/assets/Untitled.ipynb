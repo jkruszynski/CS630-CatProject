{
 "cells": [
  {
   "cell_type": "code",
   "execution_count": 21,
   "id": "rapid-sarah",
   "metadata": {},
   "outputs": [
    {
     "name": "stdout",
     "output_type": "stream",
     "text": [
      "activityLevel N/A high\n",
      "True\n",
      "color [] black\n",
      "True\n",
      "countries [] USA\n",
      "True\n",
      "grooming N/A self care\n",
      "True\n",
      "playfulness N/A high\n",
      "True\n",
      "vocality N/A high\n",
      "True\n",
      "cat1\n",
      "activityLevel N/A moderate\n",
      "True\n",
      "color [] brown\n",
      "True\n",
      "countries [] Mexico\n",
      "True\n",
      "grooming N/A pet\n",
      "True\n",
      "playfulness N/A low\n",
      "True\n",
      "vocality N/A high\n",
      "True\n",
      "cat2\n"
     ]
    },
    {
     "ename": "TypeError",
     "evalue": "'module' object is not callable",
     "output_type": "error",
     "traceback": [
      "\u001b[0;31m---------------------------------------------------------------------------\u001b[0m",
      "\u001b[0;31mTypeError\u001b[0m                                 Traceback (most recent call last)",
      "\u001b[0;32m<ipython-input-21-d520fed431b5>\u001b[0m in \u001b[0;36m<module>\u001b[0;34m\u001b[0m\n\u001b[1;32m     43\u001b[0m         \u001b[0mprint\u001b[0m\u001b[0;34m(\u001b[0m\u001b[0mbreed\u001b[0m\u001b[0;34m[\u001b[0m\u001b[0;34m'breed'\u001b[0m\u001b[0;34m]\u001b[0m\u001b[0;34m)\u001b[0m\u001b[0;34m\u001b[0m\u001b[0;34m\u001b[0m\u001b[0m\n\u001b[1;32m     44\u001b[0m         \u001b[0mmatches\u001b[0m\u001b[0;34m.\u001b[0m\u001b[0mappend\u001b[0m\u001b[0;34m(\u001b[0m\u001b[0mbreed\u001b[0m\u001b[0;34m)\u001b[0m\u001b[0;34m\u001b[0m\u001b[0;34m\u001b[0m\u001b[0m\n\u001b[0;32m---> 45\u001b[0;31m \u001b[0mjsonify\u001b[0m\u001b[0;34m(\u001b[0m\u001b[0mmatches\u001b[0m\u001b[0;34m)\u001b[0m\u001b[0;34m\u001b[0m\u001b[0;34m\u001b[0m\u001b[0m\n\u001b[0m",
      "\u001b[0;31mTypeError\u001b[0m: 'module' object is not callable"
     ]
    }
   ],
   "source": [
    "import pandas as pd\n",
    "import jsonify\n",
    "\n",
    "df = pd.read_csv('catinfo.csv')\n",
    "df = df[:2]\n",
    "breeds = df.to_dict(orient='records')\n",
    "# print(breeds)\n",
    "\n",
    "# params = {\n",
    "#     'activityLevel': \"Moderate\",\n",
    "#     'color': [\"grey\", \"black\", 'brown'],\n",
    "#     'countries': [\"USA\", \"Mexico\"],\n",
    "#     'grooming': \"N/A\",\n",
    "#     'playfulness': \"Low\",\n",
    "#     'vocality': \"High\"\n",
    "# }\n",
    "\n",
    "params = {\n",
    "    'activityLevel': \"N/A\",\n",
    "    'color': [],\n",
    "    'countries': [],\n",
    "    'grooming': \"N/A\",\n",
    "    'playfulness': \"N/A\",\n",
    "    'vocality': \"N/A\"\n",
    "}\n",
    "\n",
    "matches = []\n",
    "\n",
    "for breed in breeds:\n",
    "    match = True\n",
    "    for key, val in params.items():\n",
    "        print(key, val, breed[key])\n",
    "        if type(val) is str:\n",
    "            if val != 'N/A' and breed[key].lower() != val.lower():\n",
    "                match = False\n",
    "        \n",
    "        if type(val) is list:\n",
    "            if len(val) != 0 and breed[key] not in val:\n",
    "                match = False\n",
    "        print(match)\n",
    "        \n",
    "    if(match):\n",
    "        print(breed['breed'])\n",
    "        matches.append(breed)\n",
    "\n",
    "jsonify(matches)"
   ]
  },
  {
   "cell_type": "code",
   "execution_count": null,
   "id": "measured-forestry",
   "metadata": {},
   "outputs": [],
   "source": [
    "import pandas as pd\n",
    "import jsonify\n",
    "\n",
    "df = pd.read_csv('catinfo.csv')\n",
    "df = df[:2]\n",
    "breeds = df.to_dict(orient='records')"
   ]
  },
  {
   "cell_type": "code",
   "execution_count": null,
   "id": "rolled-figure",
   "metadata": {},
   "outputs": [],
   "source": []
  }
 ],
 "metadata": {
  "kernelspec": {
   "display_name": "Python 3",
   "language": "python",
   "name": "python3"
  },
  "language_info": {
   "codemirror_mode": {
    "name": "ipython",
    "version": 3
   },
   "file_extension": ".py",
   "mimetype": "text/x-python",
   "name": "python",
   "nbconvert_exporter": "python",
   "pygments_lexer": "ipython3",
   "version": "3.6.8"
  }
 },
 "nbformat": 4,
 "nbformat_minor": 5
}
